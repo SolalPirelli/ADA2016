{
 "cells": [
  {
   "cell_type": "markdown",
   "metadata": {},
   "source": [
    "# Prelude"
   ]
  },
  {
   "cell_type": "markdown",
   "metadata": {},
   "source": [
    "Because of the IS-Academia website's *interesting* design choices, sacrificing a few goats to the deity of your choice may be required to fully understand this code.\n",
    "\n",
    "In the immortal words of Dante Alighieri: **Lasciate ogni speranza, voi ch'entrate!**"
   ]
  },
  {
   "cell_type": "markdown",
   "metadata": {},
   "source": [
    "# Fetching the data"
   ]
  },
  {
   "cell_type": "markdown",
   "metadata": {},
   "source": [
    "First, let's import the libs we need."
   ]
  },
  {
   "cell_type": "code",
   "execution_count": 131,
   "metadata": {
    "collapsed": true
   },
   "outputs": [],
   "source": [
    "# Usual stuff, as with previous homework\n",
    "%matplotlib inline\n",
    "import pandas as pd\n",
    "import numpy as np\n",
    "import matplotlib.pyplot as plt\n",
    "import seaborn as sns\n",
    "sns.set_context('notebook')\n",
    "\n",
    "import requests # HTTP requests\n",
    "from bs4 import BeautifulSoup # HTML parsing\n",
    "import re # Regular expressions :("
   ]
  },
  {
   "cell_type": "markdown",
   "metadata": {},
   "source": [
    "And declare an useful type for students:"
   ]
  },
  {
   "cell_type": "code",
   "execution_count": 123,
   "metadata": {
    "collapsed": true
   },
   "outputs": [],
   "source": [
    "from collections import namedtuple\n",
    "\n",
    "Student = namedtuple(\"Student\", [\"name\", \"gender\"])"
   ]
  },
  {
   "cell_type": "markdown",
   "metadata": {},
   "source": [
    "Then, let's get the index form, i.e. the base page we'll use to get all data:"
   ]
  },
  {
   "cell_type": "code",
   "execution_count": 90,
   "metadata": {
    "collapsed": false
   },
   "outputs": [],
   "source": [
    "# It's just an URL with a few weird symbols, how complex can it be?\n",
    "index_url = \"http://isa.epfl.ch/imoniteur_ISAP/!GEDPUBLICREPORTS.filter\"\n",
    "\n",
    "# ...requesting that doesn't return anything, turns out we need URL parameters.\n",
    "# Surely it's simple and self-descriptive?\n",
    "index_params = {\n",
    "    # ...oh well...\n",
    "    \"ww_i_reportmodel\": \"133685247\" \n",
    "}\n",
    "\n",
    "index_html = requests.get(index_url, params=index_params).text\n",
    "index_page = BeautifulSoup(index_html, \"lxml\")"
   ]
  },
  {
   "cell_type": "markdown",
   "metadata": {},
   "source": [
    "Then, fetch the page containing all of the \"Informatique\" (CS) links:"
   ]
  },
  {
   "cell_type": "code",
   "execution_count": 94,
   "metadata": {
    "collapsed": false
   },
   "outputs": [],
   "source": [
    "# Get the parameters for that page by fetching all of the \"hidden\" parameters, then adding our own to select CS.\n",
    "info_index_params = dict([(i[\"name\"], i[\"value\"]) for i in index_page.findAll(\"input\", attrs={\"type\": \"hidden\"})])\n",
    "\n",
    "# Find the \"HTML\" option, get its value.\n",
    "# Ideally we'd also find its name by looking for \"HTML\", but ISA doesn't use radiobuttons like normal people do,\n",
    "# instead they have a button then some text right next to it, so looking for \"html\" will just find the text. :/\n",
    "info_index_params[\"ww_i_reportModelXsl\"] = index_page.find(\"input\", attrs={\"name\": \"ww_i_reportModelXsl\"})[\"value\"]\n",
    "\n",
    "# Find the \"Informatique\" option, get its value\n",
    "info_index_params[\"ww_x_UNITE_ACAD\"] = index_page.find(\"option\", text=\"Informatique\")[\"value\"]\n",
    "\n",
    "info_index_html = requests.get(index_url, params=info_index_params).text\n",
    "info_index_page = BeautifulSoup(info_index_html, \"lxml\")"
   ]
  },
  {
   "cell_type": "markdown",
   "metadata": {},
   "source": [
    "Looking at the page in a browser, there are links.  \n",
    "Have you ever heard of links? You define them with text, and an URL the user will go to if they click on the link.\n",
    "\n",
    "...well, that's how normal people do links.  \n",
    "IS-Academia does links that lead to nowhere, with JavaScript intercepting the click, creating an URL by manually scanning the user input on the page, setting a nested webpage's URL to that, and then reloading the page."
   ]
  },
  {
   "cell_type": "code",
   "execution_count": 124,
   "metadata": {
    "collapsed": false
   },
   "outputs": [],
   "source": [
    "def find_semesters(name):\n",
    "    \"\"\"Find all semesters in Informatique matching the given regex.\"\"\"\n",
    "    semesters_by_id = []\n",
    "    for link in info_index_page.findAll(\"a\", attrs={\"class\": \"ww_x_GPS\"}):\n",
    "        # Parse the link name, to find the year + semester\n",
    "        link_name_match = re.search(\"Informatique, (\\d+)-\\d+, \" + name, link.text)\n",
    "        \n",
    "        # Ignore weird stuff\n",
    "        if link_name_match is None:\n",
    "            continue\n",
    "        \n",
    "        # Find the link ID inside the onclick JavaScript.\n",
    "        # ...\n",
    "        # ...\n",
    "        # ...why? just... why? why would anybody ever write a webpage like this?\n",
    "        link_id_match = re.search(r\"ww_x_GPS=(\\d+)\", link[\"onclick\"])\n",
    "\n",
    "        semesters_by_id.append((link_id_match.group(1), link_name_match.group(1)))\n",
    "           \n",
    "    # Now filter them to keep only 2007 and onwards.\n",
    "    # Also remove those 2017 and later, since that hasn't happened yet so the data would be of dubious value.\n",
    "    semesters_by_id = [v for v in semesters_by_id if 2007 <= int(v[1]) <= 2016]\n",
    "    \n",
    "    # Are you scared yet? Now it gets worse!\n",
    "    students_by_semester = []\n",
    "    for semester in semesters_by_id:\n",
    "        # For some reason the URL is now .html instead of .filter\n",
    "        semester_url = \"http://isa.epfl.ch/imoniteur_ISAP/!GEDPUBLICREPORTS.html\"\n",
    "        \n",
    "        # The parameters are the same as before, except now there's ww_x_GPS for the semester ID\n",
    "        semester_params = info_index_params.copy()\n",
    "        semester_params[\"ww_x_GPS\"] = semester[0]\n",
    "        \n",
    "        semester_html = requests.get(semester_url, params=semester_params).text\n",
    "        semester_page = BeautifulSoup(semester_html, \"lxml\")\n",
    "        \n",
    "        students = []\n",
    "        # Iterate all rows, except the ones that have headers\n",
    "        for row in semester_page.findAll(\"tr\"):\n",
    "            if row.contents[0].name != \"th\":\n",
    "                # Just get the name!\n",
    "                # It's the 2nd column. Can't be that hard.\n",
    "                student_name = row.contents[1].text\n",
    "                \n",
    "                # ...oh wait. Instead of a normal space, it's a non-breaking space.\n",
    "                # So let's replace that...\n",
    "                student_name = student_name.replace(\"\\xa0\", \" \")\n",
    "                \n",
    "                # Also, we need the gender\n",
    "                student_gender = \"M\" if row.contents[0].text == \"Monsieur\" else \"F\"\n",
    "                \n",
    "                students.append(Student(name=student_name, gender=student_gender))\n",
    "        \n",
    "        # Aaand we're done. Finally.\n",
    "        students_by_semester.append((semester[1], students))\n",
    "        \n",
    "    return students_by_semester"
   ]
  },
  {
   "cell_type": "markdown",
   "metadata": {},
   "source": [
    "Now that we can extract students by semester, we can do fun stuff!  \n",
    "And by \"fun stuff\", I mean \"what the homework asks for\"."
   ]
  },
  {
   "cell_type": "markdown",
   "metadata": {},
   "source": [
    "# Time to get from Bachelor 1 to Bachelor 6"
   ]
  },
  {
   "cell_type": "markdown",
   "metadata": {},
   "source": [
    "So let's first find all students that were in Bachelor 1 and Bachelor 6 at some point.  \n",
    "Also find the Bachelor 5, since at EPFL if you fail BA-6 and need to do an additional semester, you're back in BA-5."
   ]
  },
  {
   "cell_type": "code",
   "execution_count": 191,
   "metadata": {
    "collapsed": true
   },
   "outputs": [],
   "source": [
    "students_ba1 = find_semesters(\"Bachelor semestre 1\")\n",
    "students_ba5 = find_semesters(\"Bachelor semestre 5\")\n",
    "students_ba6 = find_semesters(\"Bachelor semestre 6\")"
   ]
  },
  {
   "cell_type": "markdown",
   "metadata": {},
   "source": [
    "Then, make a Pandas frame from students who were in both, and the years they were in them, to get durations.\n",
    "\n",
    "Note that the ISA data does not contain outcomes, i.e. students who failed their BA-6 and abandoned will get counted as having done their Bachelor in 3 years."
   ]
  },
  {
   "cell_type": "code",
   "execution_count": 193,
   "metadata": {
    "collapsed": false
   },
   "outputs": [],
   "source": [
    "ba_students = []\n",
    "known_students = set()\n",
    "\n",
    "for students_by_year in students_ba1:\n",
    "    begin_year = students_by_year[0]\n",
    "    for student in students_by_year[1]:\n",
    "        if student in known_students:\n",
    "            # Student redoing their 1st year, ignore\n",
    "            continue\n",
    "        known_students.add(student)\n",
    "        \n",
    "        end_year = [sby[0] for sby in students_ba6 if student in sby[1]]\n",
    "        if len(end_year) != 0:\n",
    "            # Get the \"real\" end year, i.e. the last one the student was in.\n",
    "            end_year = end_year[-1]\n",
    "            # +1 since it's a range, e.g. between 2006 and 2008 -> 3 years (2006, 2007, 2008)\n",
    "            duration = int(end_year) - int(begin_year) + 1\n",
    "            \n",
    "            # Now see if there's a later year in BA-5, i.e. the student did their bachelor in an odd # of semesters\n",
    "            ba5_end_year = [sby[0] for sby in students_ba5 if student in sby[1]]\n",
    "            # We know the above list has >=1 elem since the student was in BA-6 at some point\n",
    "            if ba5_end_year[-1] > end_year:\n",
    "                duration += 0.5\n",
    "            \n",
    "            # We don't care about the name any more\n",
    "            ba_students.append({\n",
    "                    \"gender\": student.gender,\n",
    "                    \"duration\": duration\n",
    "                })\n",
    "\n",
    "ba_students = pd.DataFrame(ba_students)"
   ]
  },
  {
   "cell_type": "markdown",
   "metadata": {},
   "source": [
    "Compute fractions of students by duration and gender:"
   ]
  },
  {
   "cell_type": "code",
   "execution_count": 194,
   "metadata": {
    "collapsed": false
   },
   "outputs": [],
   "source": [
    "# Group the students\n",
    "ba_groups = ba_students.groupby(\"duration\")\n",
    "\n",
    "# Helper method to get men/women from a frame\n",
    "def of_gender(series, gender):\n",
    "    return series[series[\"gender\"] == gender]\n",
    "\n",
    "# First, total sums: how many men and women?\n",
    "ba_men = of_gender(ba_students, \"M\").size\n",
    "ba_women = of_gender(ba_students, \"F\").size\n",
    "\n",
    "# Then, fractions: what % of each gender took N years?\n",
    "ba_frac_per_gender = []\n",
    "for group in ba_groups:\n",
    "    students = group[1]\n",
    "    ba_frac_per_gender.append({\n",
    "            \"duration\": group[0],\n",
    "            \"men\": of_gender(students, \"M\").size / ba_men,\n",
    "            \"women\": of_gender(students, \"F\").size / ba_women\n",
    "        })\n",
    "\n",
    "ba_frac_per_gender = pd.DataFrame(ba_frac_per_gender)\n",
    "ba_frac_per_gender = ba_frac_per_gender.set_index([\"duration\"])"
   ]
  },
  {
   "cell_type": "markdown",
   "metadata": {},
   "source": [
    "Then display and plot it, to get a good idea of what the data looks like:"
   ]
  },
  {
   "cell_type": "code",
   "execution_count": 195,
   "metadata": {
    "collapsed": false
   },
   "outputs": [
    {
     "data": {
      "text/html": [
       "<div>\n",
       "<table border=\"1\" class=\"dataframe\">\n",
       "  <thead>\n",
       "    <tr style=\"text-align: right;\">\n",
       "      <th></th>\n",
       "      <th>men</th>\n",
       "      <th>women</th>\n",
       "    </tr>\n",
       "    <tr>\n",
       "      <th>duration</th>\n",
       "      <th></th>\n",
       "      <th></th>\n",
       "    </tr>\n",
       "  </thead>\n",
       "  <tbody>\n",
       "    <tr>\n",
       "      <th>3.0</th>\n",
       "      <td>0.552846</td>\n",
       "      <td>0.689655</td>\n",
       "    </tr>\n",
       "    <tr>\n",
       "      <th>3.5</th>\n",
       "      <td>0.094851</td>\n",
       "      <td>0.034483</td>\n",
       "    </tr>\n",
       "    <tr>\n",
       "      <th>4.0</th>\n",
       "      <td>0.184282</td>\n",
       "      <td>0.137931</td>\n",
       "    </tr>\n",
       "    <tr>\n",
       "      <th>4.5</th>\n",
       "      <td>0.062331</td>\n",
       "      <td>0.103448</td>\n",
       "    </tr>\n",
       "    <tr>\n",
       "      <th>5.0</th>\n",
       "      <td>0.059621</td>\n",
       "      <td>0.000000</td>\n",
       "    </tr>\n",
       "    <tr>\n",
       "      <th>5.5</th>\n",
       "      <td>0.027100</td>\n",
       "      <td>0.034483</td>\n",
       "    </tr>\n",
       "    <tr>\n",
       "      <th>6.0</th>\n",
       "      <td>0.016260</td>\n",
       "      <td>0.000000</td>\n",
       "    </tr>\n",
       "    <tr>\n",
       "      <th>7.0</th>\n",
       "      <td>0.002710</td>\n",
       "      <td>0.000000</td>\n",
       "    </tr>\n",
       "  </tbody>\n",
       "</table>\n",
       "</div>"
      ],
      "text/plain": [
       "               men     women\n",
       "duration                    \n",
       "3.0       0.552846  0.689655\n",
       "3.5       0.094851  0.034483\n",
       "4.0       0.184282  0.137931\n",
       "4.5       0.062331  0.103448\n",
       "5.0       0.059621  0.000000\n",
       "5.5       0.027100  0.034483\n",
       "6.0       0.016260  0.000000\n",
       "7.0       0.002710  0.000000"
      ]
     },
     "execution_count": 195,
     "metadata": {},
     "output_type": "execute_result"
    },
    {
     "data": {
      "image/png": "[encoded data removed]",
      "text/plain": [
       "<matplotlib.figure.Figure at 0x1763c6f89e8>"
      ]
     },
     "metadata": {},
     "output_type": "display_data"
    }
   ],
   "source": [
    "ba_frac_per_gender.plot.bar()\n",
    "ba_frac_per_gender"
   ]
  },
  {
   "cell_type": "markdown",
   "metadata": {},
   "source": [
    "Now compute the average:"
   ]
  },
  {
   "cell_type": "code",
   "execution_count": 196,
   "metadata": {
    "collapsed": false
   },
   "outputs": [
    {
     "name": "stdout",
     "output_type": "stream",
     "text": [
      "M: mean = 3.5718157181571817, stdev = 0.7877231972673742\n",
      "F: mean = 3.396551724137931, stdev = 0.6732027706741481\n"
     ]
    }
   ],
   "source": [
    "def show_student_info(gender):\n",
    "    duration = of_gender(ba_students, gender)[\"duration\"]\n",
    "    print(gender + \": mean = \" + str(duration.mean()) + \", stdev = \" + str(duration.std()))\n",
    "\n",
    "show_student_info(\"M\")\n",
    "show_student_info(\"F\")"
   ]
  },
  {
   "cell_type": "markdown",
   "metadata": {},
   "source": [
    "Men take slightly longer to do their Bachelor, with a larger standard deviation as well.\n",
    "\n",
    "However, there are (unfortunately!) only few women in CS bachelor, so the numbers may not mean that much:"
   ]
  },
  {
   "cell_type": "code",
   "execution_count": 197,
   "metadata": {
    "collapsed": false
   },
   "outputs": [
    {
     "name": "stdout",
     "output_type": "stream",
     "text": [
      "Men: 738, women: 58\n"
     ]
    }
   ],
   "source": [
    "print(\"Men: \" + str(ba_men) + \", women: \" + str(ba_women))"
   ]
  },
  {
   "cell_type": "markdown",
   "metadata": {},
   "source": [
    ":("
   ]
  },
  {
   "cell_type": "code",
   "execution_count": null,
   "metadata": {
    "collapsed": true
   },
   "outputs": [],
   "source": []
  }
 ],
 "metadata": {
  "anaconda-cloud": {},
  "kernelspec": {
   "display_name": "Python [conda root]",
   "language": "python",
   "name": "conda-root-py"
  },
  "language_info": {
   "codemirror_mode": {
    "name": "ipython",
    "version": 3
   },
   "file_extension": ".py",
   "mimetype": "text/x-python",
   "name": "python",
   "nbconvert_exporter": "python",
   "pygments_lexer": "ipython3",
   "version": "3.5.2"
  }
 },
 "nbformat": 4,
 "nbformat_minor": 1
}
