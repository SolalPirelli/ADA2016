{
 "cells": [
  {
   "cell_type": "markdown",
   "metadata": {},
   "source": [
    "# Prelude"
   ]
  },
  {
   "cell_type": "markdown",
   "metadata": {},
   "source": [
    "Because of the IS-Academia website's *interesting* design choices, sacrificing a few goats to the deity of your choice may be required to fully understand this code.\n",
    "\n",
    "In the immortal words of Dante Alighieri: **Lasciate ogni speranza, voi ch'entrate!**"
   ]
  },
  {
   "cell_type": "markdown",
   "metadata": {},
   "source": [
    "# Fetching the data"
   ]
  },
  {
   "cell_type": "markdown",
   "metadata": {},
   "source": [
    "First, let's import the libs we need."
   ]
  },
  {
   "cell_type": "code",
   "execution_count": 131,
   "metadata": {
    "collapsed": true
   },
   "outputs": [],
   "source": [
    "# Usual stuff, as with previous homework\n",
    "%matplotlib inline\n",
    "import pandas as pd\n",
    "import numpy as np\n",
    "import matplotlib.pyplot as plt\n",
    "import seaborn as sns\n",
    "sns.set_context('notebook')\n",
    "\n",
    "import requests # HTTP requests\n",
    "from bs4 import BeautifulSoup # HTML parsing\n",
    "import re # Regular expressions :("
   ]
  },
  {
   "cell_type": "markdown",
   "metadata": {},
   "source": [
    "And declare an useful type for students:"
   ]
  },
  {
   "cell_type": "code",
   "execution_count": 199,
   "metadata": {
    "collapsed": true
   },
   "outputs": [],
   "source": [
    "from collections import namedtuple\n",
    "\n",
    "# For simplicity, we consider specializations to be a special case of minors\n",
    "Student = namedtuple(\"Student\", [\"name\", \"gender\", \"minor\"])"
   ]
  },
  {
   "cell_type": "markdown",
   "metadata": {},
   "source": [
    "Then, let's get the index form, i.e. the base page we'll use to get all data:"
   ]
  },
  {
   "cell_type": "code",
   "execution_count": 90,
   "metadata": {
    "collapsed": false
   },
   "outputs": [],
   "source": [
    "# It's just an URL with a few weird symbols, how complex can it be?\n",
    "index_url = \"http://isa.epfl.ch/imoniteur_ISAP/!GEDPUBLICREPORTS.filter\"\n",
    "\n",
    "# ...requesting that doesn't return anything, turns out we need URL parameters.\n",
    "# Surely it's simple and self-descriptive?\n",
    "index_params = {\n",
    "    # ...oh well...\n",
    "    \"ww_i_reportmodel\": \"133685247\" \n",
    "}\n",
    "\n",
    "index_html = requests.get(index_url, params=index_params).text\n",
    "index_page = BeautifulSoup(index_html, \"lxml\")"
   ]
  },
  {
   "cell_type": "markdown",
   "metadata": {},
   "source": [
    "Then, fetch the page containing all of the \"Informatique\" (CS) links:"
   ]
  },
  {
   "cell_type": "code",
   "execution_count": 94,
   "metadata": {
    "collapsed": false
   },
   "outputs": [],
   "source": [
    "# Get the parameters for that page by fetching all of the \"hidden\" parameters, then adding our own to select CS.\n",
    "info_index_params = dict([(i[\"name\"], i[\"value\"]) for i in index_page.findAll(\"input\", attrs={\"type\": \"hidden\"})])\n",
    "\n",
    "# Find the \"HTML\" option, get its value.\n",
    "# Ideally we'd also find its name by looking for \"HTML\", but ISA doesn't use radiobuttons like normal people do,\n",
    "# instead they have a button then some text right next to it, so looking for \"html\" will just find the text. :/\n",
    "info_index_params[\"ww_i_reportModelXsl\"] = index_page.find(\"input\", attrs={\"name\": \"ww_i_reportModelXsl\"})[\"value\"]\n",
    "\n",
    "# Find the \"Informatique\" option, get its value\n",
    "info_index_params[\"ww_x_UNITE_ACAD\"] = index_page.find(\"option\", text=\"Informatique\")[\"value\"]\n",
    "\n",
    "info_index_html = requests.get(index_url, params=info_index_params).text\n",
    "info_index_page = BeautifulSoup(info_index_html, \"lxml\")"
   ]
  },
  {
   "cell_type": "markdown",
   "metadata": {},
   "source": [
    "Looking at the page in a browser, there are links.  \n",
    "Have you ever heard of links? You define them with text, and an URL the user will go to if they click on the link.\n",
    "\n",
    "...well, that's how normal people do links.  \n",
    "IS-Academia does links that lead to nowhere, with JavaScript intercepting the click, creating an URL by manually scanning the user input on the page, setting a nested webpage's URL to that, and then reloading the page."
   ]
  },
  {
   "cell_type": "code",
   "execution_count": 291,
   "metadata": {
    "collapsed": false
   },
   "outputs": [],
   "source": [
    "def find_semesters(name):\n",
    "    \"\"\"Find all semesters in Informatique matching the given regex.\"\"\"\n",
    "    semesters_by_id = []\n",
    "    for link in info_index_page.findAll(\"a\", attrs={\"class\": \"ww_x_GPS\"}):\n",
    "        # Parse the link name, to find the year + semester\n",
    "        link_name_match = re.search(\"Informatique, (\\d+)-\\d+, \" + name, link.text)\n",
    "        \n",
    "        # Ignore weird stuff\n",
    "        if link_name_match is None:\n",
    "            continue\n",
    "        \n",
    "        # Find the link ID inside the onclick JavaScript.\n",
    "        # ...\n",
    "        # ...\n",
    "        # ...why? just... why? why would anybody ever write a webpage like this?\n",
    "        link_id_match = re.search(r\"ww_x_GPS=(\\d+)\", link[\"onclick\"])\n",
    "\n",
    "        semesters_by_id.append((link_id_match.group(1), int(link_name_match.group(1))))\n",
    "           \n",
    "    # Now filter them to keep only 2007 and onwards.\n",
    "    # Also remove those 2017 and later, since that hasn't happened yet so the data would be of dubious value.\n",
    "    semesters_by_id = [v for v in semesters_by_id if 2007 <= v[1] <= 2016]\n",
    "\n",
    "    # Are you scared yet? Now it gets worse!\n",
    "    students_by_semester = []\n",
    "    for semester in semesters_by_id:\n",
    "        # For some reason the URL is now .html instead of .filter\n",
    "        semester_url = \"http://isa.epfl.ch/imoniteur_ISAP/!GEDPUBLICREPORTS.html\"\n",
    "        \n",
    "        # The parameters are the same as before, except now there's ww_x_GPS for the semester ID\n",
    "        semester_params = info_index_params.copy()\n",
    "        semester_params[\"ww_x_GPS\"] = semester[0]\n",
    "        \n",
    "        semester_html = requests.get(semester_url, params=semester_params).text\n",
    "        semester_page = BeautifulSoup(semester_html, \"lxml\")\n",
    "        \n",
    "        students = []\n",
    "        # Iterate all rows, except the ones that have headers\n",
    "        for row in semester_page.findAll(\"tr\"):\n",
    "            if row.contents[0].name != \"th\":\n",
    "                # Just get the name!\n",
    "                # It's the 2nd column. Can't be that hard.\n",
    "                student_name = row.contents[1].text\n",
    "                \n",
    "                # ...oh wait. Instead of a normal space, it's a non-breaking space.\n",
    "                # So let's replace that...\n",
    "                student_name = student_name.replace(\"\\xa0\", \" \")\n",
    "                \n",
    "                # Also, we need the gender\n",
    "                student_gender = \"M\" if row.contents[0].text == \"Monsieur\" else \"F\"\n",
    "                \n",
    "                # And the minor/specialization for Masters students\n",
    "                student_minor = row.contents[4].text # 4 = specialization\n",
    "                if len(student_minor) == 0:\n",
    "                    student_minor = row.contents[6].text # 6 = minor\n",
    "                if len(student_minor) == 0:\n",
    "                    student_minor = None\n",
    "                \n",
    "                students.append(Student(name=student_name, gender=student_gender, minor=student_minor))\n",
    "        \n",
    "        # Aaand we're done. Finally.\n",
    "        students_by_semester.append((semester[1], students))\n",
    "        \n",
    "    return students_by_semester"
   ]
  },
  {
   "cell_type": "markdown",
   "metadata": {},
   "source": [
    "Now that we can extract students by semester, we can do fun stuff!  \n",
    "And by \"fun stuff\", I mean \"what the homework asks for\"."
   ]
  },
  {
   "cell_type": "markdown",
   "metadata": {},
   "source": [
    "# Q1: Time to finish the Bachelor, by gender"
   ]
  },
  {
   "cell_type": "markdown",
   "metadata": {},
   "source": [
    "So let's first find all students that were in Bachelor 1 and Bachelor 6 at some point.  \n",
    "Also find the Bachelor 5, since at EPFL if you fail BA-6 and need to do an additional semester, you're back in BA-5."
   ]
  },
  {
   "cell_type": "code",
   "execution_count": 221,
   "metadata": {
    "collapsed": true
   },
   "outputs": [],
   "source": [
    "students_ba1 = find_semesters(\"Bachelor semestre 1\")\n",
    "students_ba5 = find_semesters(\"Bachelor semestre 5\")\n",
    "students_ba6 = find_semesters(\"Bachelor semestre 6\")"
   ]
  },
  {
   "cell_type": "markdown",
   "metadata": {},
   "source": [
    "Then, make a Pandas frame from students who were in both, and the years they were in them, to get durations.\n",
    "\n",
    "Note that the ISA data does not contain outcomes, i.e. students who failed their BA-6 and abandoned will get counted as having done their Bachelor in 3 years."
   ]
  },
  {
   "cell_type": "code",
   "execution_count": 262,
   "metadata": {
    "collapsed": false
   },
   "outputs": [],
   "source": [
    "ba_students = []\n",
    "known_students = set()\n",
    "\n",
    "for students_by_year in students_ba1:\n",
    "    begin_year = students_by_year[0]\n",
    "    for student in students_by_year[1]:\n",
    "        if student in known_students:\n",
    "            # Student redoing their 1st year, ignore\n",
    "            continue\n",
    "        known_students.add(student)\n",
    "        \n",
    "        end_year = [sby[0] for sby in students_ba6 if student in sby[1]]\n",
    "        if len(end_year) != 0:\n",
    "            # Get the \"real\" end year, i.e. the last one the student was in.\n",
    "            end_year = end_year[-1]\n",
    "            \n",
    "            # Now see if there's a later year in BA-5, i.e. the student did their bachelor in an odd # of semesters\n",
    "            ba5_end_year = [sby[0] for sby in students_ba5 if student in sby[1]]\n",
    "            \n",
    "            duration = end_year - begin_year\n",
    "            \n",
    "            # Add either 0.5 or 1 depending on the last semester, e.g.\n",
    "            # 2007 to 2009 spring -> 3\n",
    "            # 2008 to 2011 fall -> 4.5\n",
    "            # (we know the ba5 list has >=1 elem since the student was in BA-6 at some point)\n",
    "            if ba5_end_year[-1] > end_year:\n",
    "                if ba5_end_year[-1] == 2016:\n",
    "                    # Ignore current students, can't know when they'll finish\n",
    "                    continue\n",
    "                    \n",
    "                duration += 0.5\n",
    "            else:\n",
    "                duration += 1\n",
    "            \n",
    "            ba_students.append({\n",
    "                \"gender\": student.gender,\n",
    "                \"duration\": duration\n",
    "            })\n",
    "\n",
    "ba_students = pd.DataFrame(ba_students)"
   ]
  },
  {
   "cell_type": "markdown",
   "metadata": {},
   "source": [
    "Compute fractions of students by duration and gender:"
   ]
  },
  {
   "cell_type": "code",
   "execution_count": 263,
   "metadata": {
    "collapsed": false
   },
   "outputs": [],
   "source": [
    "# Group the students\n",
    "ba_groups = ba_students.groupby(\"duration\")\n",
    "\n",
    "# Helper method to get men/women from a frame\n",
    "def of_gender(series, gender):\n",
    "    return series[series[\"gender\"] == gender]\n",
    "\n",
    "# First, total sums: how many men and women?\n",
    "ba_men = of_gender(ba_students, \"M\").size\n",
    "ba_women = of_gender(ba_students, \"F\").size\n",
    "\n",
    "# Then, fractions: what % of each gender took N years?\n",
    "ba_frac_per_gender = []\n",
    "for group in ba_groups:\n",
    "    students = group[1]\n",
    "    ba_frac_per_gender.append({\n",
    "            \"duration\": group[0],\n",
    "            \"men\": of_gender(students, \"M\").size / ba_men,\n",
    "            \"women\": of_gender(students, \"F\").size / ba_women\n",
    "        })\n",
    "\n",
    "ba_frac_per_gender = pd.DataFrame(ba_frac_per_gender)\n",
    "ba_frac_per_gender = ba_frac_per_gender.set_index([\"duration\"])"
   ]
  },
  {
   "cell_type": "markdown",
   "metadata": {},
   "source": [
    "Then display and plot it, to get a good idea of what the data looks like:"
   ]
  },
  {
   "cell_type": "code",
   "execution_count": 264,
   "metadata": {
    "collapsed": false
   },
   "outputs": [
    {
     "data": {
      "text/html": [
       "<div>\n",
       "<table border=\"1\" class=\"dataframe\">\n",
       "  <thead>\n",
       "    <tr style=\"text-align: right;\">\n",
       "      <th></th>\n",
       "      <th>men</th>\n",
       "      <th>women</th>\n",
       "    </tr>\n",
       "    <tr>\n",
       "      <th>duration</th>\n",
       "      <th></th>\n",
       "      <th></th>\n",
       "    </tr>\n",
       "  </thead>\n",
       "  <tbody>\n",
       "    <tr>\n",
       "      <th>2.5</th>\n",
       "      <td>0.075145</td>\n",
       "      <td>0.038462</td>\n",
       "    </tr>\n",
       "    <tr>\n",
       "      <th>3.0</th>\n",
       "      <td>0.589595</td>\n",
       "      <td>0.769231</td>\n",
       "    </tr>\n",
       "    <tr>\n",
       "      <th>3.5</th>\n",
       "      <td>0.043353</td>\n",
       "      <td>0.038462</td>\n",
       "    </tr>\n",
       "    <tr>\n",
       "      <th>4.0</th>\n",
       "      <td>0.196532</td>\n",
       "      <td>0.153846</td>\n",
       "    </tr>\n",
       "    <tr>\n",
       "      <th>4.5</th>\n",
       "      <td>0.011561</td>\n",
       "      <td>0.000000</td>\n",
       "    </tr>\n",
       "    <tr>\n",
       "      <th>5.0</th>\n",
       "      <td>0.063584</td>\n",
       "      <td>0.000000</td>\n",
       "    </tr>\n",
       "    <tr>\n",
       "      <th>6.0</th>\n",
       "      <td>0.017341</td>\n",
       "      <td>0.000000</td>\n",
       "    </tr>\n",
       "    <tr>\n",
       "      <th>7.0</th>\n",
       "      <td>0.002890</td>\n",
       "      <td>0.000000</td>\n",
       "    </tr>\n",
       "  </tbody>\n",
       "</table>\n",
       "</div>"
      ],
      "text/plain": [
       "               men     women\n",
       "duration                    \n",
       "2.5       0.075145  0.038462\n",
       "3.0       0.589595  0.769231\n",
       "3.5       0.043353  0.038462\n",
       "4.0       0.196532  0.153846\n",
       "4.5       0.011561  0.000000\n",
       "5.0       0.063584  0.000000\n",
       "6.0       0.017341  0.000000\n",
       "7.0       0.002890  0.000000"
      ]
     },
     "execution_count": 264,
     "metadata": {},
     "output_type": "execute_result"
    },
    {
     "data": {
      "image/png": "[encoded data removed]",
      "text/plain": [
       "<matplotlib.figure.Figure at 0x17643074f28>"
      ]
     },
     "metadata": {},
     "output_type": "display_data"
    }
   ],
   "source": [
    "ba_frac_per_gender.plot.bar()\n",
    "ba_frac_per_gender"
   ]
  },
  {
   "cell_type": "markdown",
   "metadata": {},
   "source": [
    "Now compute the average:"
   ]
  },
  {
   "cell_type": "code",
   "execution_count": 265,
   "metadata": {
    "collapsed": false
   },
   "outputs": [
    {
     "name": "stdout",
     "output_type": "stream",
     "text": [
      "M: mean = 3.39, stdev = 0.75\n",
      "F: mean = 3.15, stdev = 0.39\n"
     ]
    }
   ],
   "source": [
    "def show_student_info(gender):\n",
    "    duration = of_gender(ba_students, gender)[\"duration\"]\n",
    "    print(gender + \": mean = \" + str(round(duration.mean(),2)) + \", stdev = \" + str(round(duration.std(), 2)))\n",
    "\n",
    "show_student_info(\"M\")\n",
    "show_student_info(\"F\")"
   ]
  },
  {
   "cell_type": "markdown",
   "metadata": {},
   "source": [
    "Men take slightly longer to do their Bachelor, with a larger standard deviation as well.\n",
    "\n",
    "However, there are very few women in CS bachelor, so the numbers may not mean that much:"
   ]
  },
  {
   "cell_type": "code",
   "execution_count": 266,
   "metadata": {
    "collapsed": false
   },
   "outputs": [
    {
     "name": "stdout",
     "output_type": "stream",
     "text": [
      "Men: 692, women: 52\n"
     ]
    }
   ],
   "source": [
    "print(\"Men: \" + str(ba_men) + \", women: \" + str(ba_women))"
   ]
  },
  {
   "cell_type": "markdown",
   "metadata": {},
   "source": [
    "We can confirm this hypothesis by adding two hypothetical female students that would take 7 years to do their bachelor, as much as the \"worst\" men. The average would then move by `2*(7-3.15)/(52+2) = 0.14`, which would move the female average to 3.39, matching men's.  \n",
    "In other words, because there are so few women in CS bachelor ( :( ), the mean doesn't mean (ha!) much as even a tiny amount of outliers could shift it."
   ]
  },
  {
   "cell_type": "markdown",
   "metadata": {
    "collapsed": true
   },
   "source": [
    "# Q2: Time to finish the Master, by minor/specialization"
   ]
  },
  {
   "cell_type": "markdown",
   "metadata": {},
   "source": [
    "This time we're interested in Masters students.\n",
    "\n",
    "We can just ignore the semester names and look at fall/spring only. This simplification takes care of edge cases such as people who choose to do their Masters in more than the usual number of semesters, people who fail classes and have to take more semesters, etc.\n",
    "\n",
    "There does remain the fact that some people start their Masters in spring, though."
   ]
  },
  {
   "cell_type": "code",
   "execution_count": 339,
   "metadata": {
    "collapsed": false
   },
   "outputs": [],
   "source": [
    "students_mafall_proj = find_semesters(\"Projet Master automne\")\n",
    "students_mafall = find_semesters(\"(Master semestre 1|Master semestre 3)\") + students_mafall_proj\n",
    "students_maspring_proj = find_semesters(\"Projet Master printemps\")\n",
    "students_maspring = find_semesters(\"Master semestre 2\") + students_maspring_proj"
   ]
  },
  {
   "cell_type": "markdown",
   "metadata": {},
   "source": [
    "Then, for each student, find their first and last years.\n",
    "\n",
    "(this has horrible algorithmic complexity, but the number of semesters is small, so there's no point in optimizing it)\n",
    "\n",
    "There is a catch, though: Most data on master projects is missing, so ignoring students without one would leave us with a tiny fraction of all students. Instead, assume that anybody with no information about a project succeeded at it in 1 semester."
   ]
  },
  {
   "cell_type": "code",
   "execution_count": 340,
   "metadata": {
    "collapsed": false
   },
   "outputs": [],
   "source": [
    "# \"spring 2008\" means beginning of 2009,\n",
    "# while \"fall 2010\" means end of 2010.\n",
    "# We use fall as the reference point, so everything is shifted\n",
    "students_maspring = [(sby[0] + 0.5, sby[1]) for sby in students_maspring]\n",
    "    \n",
    "# First get all students, it's simpler\n",
    "students_ma_all = set()\n",
    "\n",
    "for students_by_year in students_mafall:\n",
    "    for student in students_by_year[1]:\n",
    "        students_ma_all.add(student)\n",
    "        \n",
    "for students_by_year in students_maspring:\n",
    "    for student in students_by_year[1]:\n",
    "        students_ma_all.add(student)\n",
    "\n",
    "# Get a list of students we do have project information about\n",
    "students_ma_proj = students_mafall_proj + students_maspring_proj\n",
    "students_ma_proj = sum((g[1] for g in students_ma_proj), [])\n",
    "        \n",
    "ma_students = []\n",
    "\n",
    "for student in students_ma_all:\n",
    "    # Simple logic for begin year\n",
    "    begin_year_fall = next((sby[0] for sby in students_mafall if student in sby[1]), 9999)\n",
    "    begin_year_spring = next((sby[0] for sby in students_maspring if student in sby[1]), 9999)\n",
    "    begin_year = min(begin_year_fall, begin_year_spring)\n",
    "    \n",
    "    # Little more tricky for the end cause Python has no \"last or default\" operation\n",
    "    end_year_fall = [sby[0] for sby in students_mafall if student in sby[1]]\n",
    "    end_year_fall = end_year_fall[-1] if len(end_year_fall) > 0 else 0 \n",
    "    end_year_spring = [sby[0] for sby in students_maspring if student in sby[1]]\n",
    "    end_year_spring = end_year_spring[-1] if len(end_year_spring) > 0 else 0       \n",
    "    end_year = max(end_year_fall, end_year_spring)\n",
    "            \n",
    "    if end_year >= 2016:\n",
    "        # Ignore current students, we don't know when they'll finish\n",
    "        continue\n",
    "            \n",
    "    # Add 0.5 since it's a range, but we want the inclusive time\n",
    "    duration = end_year - begin_year + 0.5\n",
    "    if duration <= 1:\n",
    "        # Ignore students who appear to have finished in 1 year or less, that is not possible\n",
    "        continue\n",
    "        \n",
    "    # Assume the student did their project in 1 semester if not specified\n",
    "    if student not in students_ma_proj:\n",
    "        duration += 0.5\n",
    "        \n",
    "    ma_students.append({\n",
    "        \"gender\": student.gender,\n",
    "        \"minor\": student.minor,\n",
    "        \"duration\": duration\n",
    "    })\n",
    "\n",
    "ma_students = pd.DataFrame(ma_students)\n",
    "# Avoid having to special-case None later for minors\n",
    "ma_students = ma_students.fillna(\"No minor\")"
   ]
  },
  {
   "cell_type": "code",
   "execution_count": 341,
   "metadata": {
    "collapsed": false
   },
   "outputs": [],
   "source": [
    "# Group the students\n",
    "ma_groups = ma_students.groupby(\"duration\")\n",
    "\n",
    "# Get all minors\n",
    "ma_minors = set(ma_students[\"minor\"])\n",
    "\n",
    "# Helper method to get all students with the specified minor from a frame\n",
    "def of_minor(series, minor):\n",
    "    return series[series[\"minor\"] == minor]\n",
    "\n",
    "# What % of each minor took N years?\n",
    "ma_frac_per_minor = []\n",
    "for group in ma_groups:\n",
    "    students = group[1]\n",
    "    \n",
    "    results = {}\n",
    "    results[\"duration\"] = group[0]\n",
    "    \n",
    "    for minor in ma_minors:\n",
    "        minor_size = of_minor(ma_students, minor).size\n",
    "        results[minor] = of_minor(students, minor).size / minor_size\n",
    "    \n",
    "    ma_frac_per_minor.append(results)\n",
    "\n",
    "ma_frac_per_minor = pd.DataFrame(ma_frac_per_minor)\n",
    "ma_frac_per_minor = ma_frac_per_minor.set_index([\"duration\"])"
   ]
  },
  {
   "cell_type": "markdown",
   "metadata": {},
   "source": [
    "We can then display the fraction of each minor that spent a certain number of years to get their degree.\n",
    "\n",
    "No plot this time, there are so many minors it's really messy."
   ]
  },
  {
   "cell_type": "code",
   "execution_count": 343,
   "metadata": {
    "collapsed": false
   },
   "outputs": [
    {
     "data": {
      "text/html": [
       "<div>\n",
       "<table border=\"1\" class=\"dataframe\">\n",
       "  <thead>\n",
       "    <tr style=\"text-align: right;\">\n",
       "      <th></th>\n",
       "      <th>Area and Cultural Studies minor</th>\n",
       "      <th>Biocomputing</th>\n",
       "      <th>Computer Engineering - SP</th>\n",
       "      <th>Foundations of Software</th>\n",
       "      <th>Information security minor</th>\n",
       "      <th>Internet computing</th>\n",
       "      <th>Mineur en Biocomputing</th>\n",
       "      <th>Mineur en Etudes asiatiques contemporaines</th>\n",
       "      <th>Mineur en Ingénierie financière</th>\n",
       "      <th>Mineur en Management, technologie et entrepreneuriat</th>\n",
       "      <th>Mineur en Mathématiques</th>\n",
       "      <th>Mineur en Technologies spatiales</th>\n",
       "      <th>No minor</th>\n",
       "      <th>Service science</th>\n",
       "      <th>Signals, Images and Interfaces</th>\n",
       "      <th>Software Systems</th>\n",
       "    </tr>\n",
       "    <tr>\n",
       "      <th>duration</th>\n",
       "      <th></th>\n",
       "      <th></th>\n",
       "      <th></th>\n",
       "      <th></th>\n",
       "      <th></th>\n",
       "      <th></th>\n",
       "      <th></th>\n",
       "      <th></th>\n",
       "      <th></th>\n",
       "      <th></th>\n",
       "      <th></th>\n",
       "      <th></th>\n",
       "      <th></th>\n",
       "      <th></th>\n",
       "      <th></th>\n",
       "      <th></th>\n",
       "    </tr>\n",
       "  </thead>\n",
       "  <tbody>\n",
       "    <tr>\n",
       "      <th>1.5</th>\n",
       "      <td>0.0</td>\n",
       "      <td>0.0</td>\n",
       "      <td>0.00</td>\n",
       "      <td>0.032258</td>\n",
       "      <td>0.0</td>\n",
       "      <td>0.023256</td>\n",
       "      <td>0.000000</td>\n",
       "      <td>0.0</td>\n",
       "      <td>0.0</td>\n",
       "      <td>0.058824</td>\n",
       "      <td>0.0</td>\n",
       "      <td>0.0</td>\n",
       "      <td>0.062992</td>\n",
       "      <td>0.0</td>\n",
       "      <td>0.000000</td>\n",
       "      <td>0.00</td>\n",
       "    </tr>\n",
       "    <tr>\n",
       "      <th>2.0</th>\n",
       "      <td>1.0</td>\n",
       "      <td>1.0</td>\n",
       "      <td>0.75</td>\n",
       "      <td>0.612903</td>\n",
       "      <td>1.0</td>\n",
       "      <td>0.674419</td>\n",
       "      <td>0.857143</td>\n",
       "      <td>1.0</td>\n",
       "      <td>0.4</td>\n",
       "      <td>0.647059</td>\n",
       "      <td>0.5</td>\n",
       "      <td>0.0</td>\n",
       "      <td>0.673228</td>\n",
       "      <td>1.0</td>\n",
       "      <td>0.250000</td>\n",
       "      <td>0.75</td>\n",
       "    </tr>\n",
       "    <tr>\n",
       "      <th>2.5</th>\n",
       "      <td>0.0</td>\n",
       "      <td>0.0</td>\n",
       "      <td>0.25</td>\n",
       "      <td>0.193548</td>\n",
       "      <td>0.0</td>\n",
       "      <td>0.255814</td>\n",
       "      <td>0.000000</td>\n",
       "      <td>0.0</td>\n",
       "      <td>0.4</td>\n",
       "      <td>0.117647</td>\n",
       "      <td>0.5</td>\n",
       "      <td>1.0</td>\n",
       "      <td>0.220472</td>\n",
       "      <td>0.0</td>\n",
       "      <td>0.416667</td>\n",
       "      <td>0.25</td>\n",
       "    </tr>\n",
       "    <tr>\n",
       "      <th>3.0</th>\n",
       "      <td>0.0</td>\n",
       "      <td>0.0</td>\n",
       "      <td>0.00</td>\n",
       "      <td>0.161290</td>\n",
       "      <td>0.0</td>\n",
       "      <td>0.023256</td>\n",
       "      <td>0.142857</td>\n",
       "      <td>0.0</td>\n",
       "      <td>0.2</td>\n",
       "      <td>0.117647</td>\n",
       "      <td>0.0</td>\n",
       "      <td>0.0</td>\n",
       "      <td>0.031496</td>\n",
       "      <td>0.0</td>\n",
       "      <td>0.333333</td>\n",
       "      <td>0.00</td>\n",
       "    </tr>\n",
       "    <tr>\n",
       "      <th>3.5</th>\n",
       "      <td>0.0</td>\n",
       "      <td>0.0</td>\n",
       "      <td>0.00</td>\n",
       "      <td>0.000000</td>\n",
       "      <td>0.0</td>\n",
       "      <td>0.023256</td>\n",
       "      <td>0.000000</td>\n",
       "      <td>0.0</td>\n",
       "      <td>0.0</td>\n",
       "      <td>0.058824</td>\n",
       "      <td>0.0</td>\n",
       "      <td>0.0</td>\n",
       "      <td>0.007874</td>\n",
       "      <td>0.0</td>\n",
       "      <td>0.000000</td>\n",
       "      <td>0.00</td>\n",
       "    </tr>\n",
       "    <tr>\n",
       "      <th>4.0</th>\n",
       "      <td>0.0</td>\n",
       "      <td>0.0</td>\n",
       "      <td>0.00</td>\n",
       "      <td>0.000000</td>\n",
       "      <td>0.0</td>\n",
       "      <td>0.000000</td>\n",
       "      <td>0.000000</td>\n",
       "      <td>0.0</td>\n",
       "      <td>0.0</td>\n",
       "      <td>0.000000</td>\n",
       "      <td>0.0</td>\n",
       "      <td>0.0</td>\n",
       "      <td>0.003937</td>\n",
       "      <td>0.0</td>\n",
       "      <td>0.000000</td>\n",
       "      <td>0.00</td>\n",
       "    </tr>\n",
       "  </tbody>\n",
       "</table>\n",
       "</div>"
      ],
      "text/plain": [
       "          Area and Cultural Studies minor  Biocomputing  \\\n",
       "duration                                                  \n",
       "1.5                                   0.0           0.0   \n",
       "2.0                                   1.0           1.0   \n",
       "2.5                                   0.0           0.0   \n",
       "3.0                                   0.0           0.0   \n",
       "3.5                                   0.0           0.0   \n",
       "4.0                                   0.0           0.0   \n",
       "\n",
       "          Computer Engineering - SP  Foundations of Software  \\\n",
       "duration                                                       \n",
       "1.5                            0.00                 0.032258   \n",
       "2.0                            0.75                 0.612903   \n",
       "2.5                            0.25                 0.193548   \n",
       "3.0                            0.00                 0.161290   \n",
       "3.5                            0.00                 0.000000   \n",
       "4.0                            0.00                 0.000000   \n",
       "\n",
       "          Information security minor  Internet computing  \\\n",
       "duration                                                   \n",
       "1.5                              0.0            0.023256   \n",
       "2.0                              1.0            0.674419   \n",
       "2.5                              0.0            0.255814   \n",
       "3.0                              0.0            0.023256   \n",
       "3.5                              0.0            0.023256   \n",
       "4.0                              0.0            0.000000   \n",
       "\n",
       "          Mineur en Biocomputing  Mineur en Etudes asiatiques contemporaines  \\\n",
       "duration                                                                       \n",
       "1.5                     0.000000                                         0.0   \n",
       "2.0                     0.857143                                         1.0   \n",
       "2.5                     0.000000                                         0.0   \n",
       "3.0                     0.142857                                         0.0   \n",
       "3.5                     0.000000                                         0.0   \n",
       "4.0                     0.000000                                         0.0   \n",
       "\n",
       "          Mineur en Ingénierie financière  \\\n",
       "duration                                    \n",
       "1.5                                   0.0   \n",
       "2.0                                   0.4   \n",
       "2.5                                   0.4   \n",
       "3.0                                   0.2   \n",
       "3.5                                   0.0   \n",
       "4.0                                   0.0   \n",
       "\n",
       "          Mineur en Management, technologie et entrepreneuriat  \\\n",
       "duration                                                         \n",
       "1.5                                                0.058824      \n",
       "2.0                                                0.647059      \n",
       "2.5                                                0.117647      \n",
       "3.0                                                0.117647      \n",
       "3.5                                                0.058824      \n",
       "4.0                                                0.000000      \n",
       "\n",
       "          Mineur en Mathématiques  Mineur en Technologies spatiales  No minor  \\\n",
       "duration                                                                        \n",
       "1.5                           0.0                               0.0  0.062992   \n",
       "2.0                           0.5                               0.0  0.673228   \n",
       "2.5                           0.5                               1.0  0.220472   \n",
       "3.0                           0.0                               0.0  0.031496   \n",
       "3.5                           0.0                               0.0  0.007874   \n",
       "4.0                           0.0                               0.0  0.003937   \n",
       "\n",
       "          Service science  Signals, Images and Interfaces  Software Systems  \n",
       "duration                                                                     \n",
       "1.5                   0.0                        0.000000              0.00  \n",
       "2.0                   1.0                        0.250000              0.75  \n",
       "2.5                   0.0                        0.416667              0.25  \n",
       "3.0                   0.0                        0.333333              0.00  \n",
       "3.5                   0.0                        0.000000              0.00  \n",
       "4.0                   0.0                        0.000000              0.00  "
      ]
     },
     "execution_count": 343,
     "metadata": {},
     "output_type": "execute_result"
    }
   ],
   "source": [
    "ma_frac_per_minor"
   ]
  },
  {
   "cell_type": "code",
   "execution_count": null,
   "metadata": {
    "collapsed": true
   },
   "outputs": [],
   "source": []
  },
  {
   "cell_type": "code",
   "execution_count": 345,
   "metadata": {
    "collapsed": false
   },
   "outputs": [
    {
     "data": {
      "text/html": [
       "<div>\n",
       "<table border=\"1\" class=\"dataframe\">\n",
       "  <thead>\n",
       "    <tr style=\"text-align: right;\">\n",
       "      <th></th>\n",
       "      <th>mean</th>\n",
       "      <th>stdev</th>\n",
       "    </tr>\n",
       "    <tr>\n",
       "      <th>minor</th>\n",
       "      <th></th>\n",
       "      <th></th>\n",
       "    </tr>\n",
       "  </thead>\n",
       "  <tbody>\n",
       "    <tr>\n",
       "      <th>Software Systems</th>\n",
       "      <td>2.12</td>\n",
       "      <td>0.25</td>\n",
       "    </tr>\n",
       "    <tr>\n",
       "      <th>Computer Engineering - SP</th>\n",
       "      <td>2.12</td>\n",
       "      <td>0.25</td>\n",
       "    </tr>\n",
       "    <tr>\n",
       "      <th>Service science</th>\n",
       "      <td>2.0</td>\n",
       "      <td>0.0</td>\n",
       "    </tr>\n",
       "    <tr>\n",
       "      <th>Signals, Images and Interfaces</th>\n",
       "      <td>2.54</td>\n",
       "      <td>0.4</td>\n",
       "    </tr>\n",
       "    <tr>\n",
       "      <th>Mineur en Biocomputing</th>\n",
       "      <td>2.14</td>\n",
       "      <td>0.38</td>\n",
       "    </tr>\n",
       "    <tr>\n",
       "      <th>Foundations of Software</th>\n",
       "      <td>2.24</td>\n",
       "      <td>0.41</td>\n",
       "    </tr>\n",
       "    <tr>\n",
       "      <th>Mineur en Mathématiques</th>\n",
       "      <td>2.25</td>\n",
       "      <td>0.35</td>\n",
       "    </tr>\n",
       "    <tr>\n",
       "      <th>Internet computing</th>\n",
       "      <td>2.17</td>\n",
       "      <td>0.34</td>\n",
       "    </tr>\n",
       "    <tr>\n",
       "      <th>Area and Cultural Studies minor</th>\n",
       "      <td>2.0</td>\n",
       "      <td>0.0</td>\n",
       "    </tr>\n",
       "    <tr>\n",
       "      <th>Mineur en Technologies spatiales</th>\n",
       "      <td>2.5</td>\n",
       "      <td>0.0</td>\n",
       "    </tr>\n",
       "    <tr>\n",
       "      <th>No minor</th>\n",
       "      <td>2.13</td>\n",
       "      <td>0.35</td>\n",
       "    </tr>\n",
       "    <tr>\n",
       "      <th>Mineur en Ingénierie financière</th>\n",
       "      <td>2.4</td>\n",
       "      <td>0.42</td>\n",
       "    </tr>\n",
       "    <tr>\n",
       "      <th>Information security minor</th>\n",
       "      <td>2.0</td>\n",
       "      <td>0.0</td>\n",
       "    </tr>\n",
       "    <tr>\n",
       "      <th>Mineur en Etudes asiatiques contemporaines</th>\n",
       "      <td>2.0</td>\n",
       "      <td>nan</td>\n",
       "    </tr>\n",
       "    <tr>\n",
       "      <th>Mineur en Management, technologie et entrepreneuriat</th>\n",
       "      <td>2.24</td>\n",
       "      <td>0.5</td>\n",
       "    </tr>\n",
       "    <tr>\n",
       "      <th>Biocomputing</th>\n",
       "      <td>2.0</td>\n",
       "      <td>0.0</td>\n",
       "    </tr>\n",
       "  </tbody>\n",
       "</table>\n",
       "</div>"
      ],
      "text/plain": [
       "                                                    mean stdev\n",
       "minor                                                         \n",
       "Software Systems                                    2.12  0.25\n",
       "Computer Engineering - SP                           2.12  0.25\n",
       "Service science                                      2.0   0.0\n",
       "Signals, Images and Interfaces                      2.54   0.4\n",
       "Mineur en Biocomputing                              2.14  0.38\n",
       "Foundations of Software                             2.24  0.41\n",
       "Mineur en Mathématiques                             2.25  0.35\n",
       "Internet computing                                  2.17  0.34\n",
       "Area and Cultural Studies minor                      2.0   0.0\n",
       "Mineur en Technologies spatiales                     2.5   0.0\n",
       "No minor                                            2.13  0.35\n",
       "Mineur en Ingénierie financière                      2.4  0.42\n",
       "Information security minor                           2.0   0.0\n",
       "Mineur en Etudes asiatiques contemporaines           2.0   nan\n",
       "Mineur en Management, technologie et entreprene...  2.24   0.5\n",
       "Biocomputing                                         2.0   0.0"
      ]
     },
     "execution_count": 345,
     "metadata": {},
     "output_type": "execute_result"
    }
   ],
   "source": [
    "minor_analysis = []\n",
    "for minor in ma_minors:\n",
    "    duration = of_minor(ma_students, minor)[\"duration\"]\n",
    "    minor_analysis.append({\n",
    "        \"minor\": minor,\n",
    "        \"mean\": str(round(duration.mean(),2)),\n",
    "        \"stdev\": str(round(duration.std(), 2))\n",
    "    })\n",
    "    \n",
    "minor_analysis = pd.DataFrame(minor_analysis)\n",
    "minor_analysis = minor_analysis.set_index([\"minor\"])\n",
    "minor_analysis"
   ]
  },
  {
   "cell_type": "markdown",
   "metadata": {},
   "source": [
    "The only minors that stand out are \"Signals, Images and Interfaces\" and \"Mineur en Ingénierie financière\".\n",
    "\n",
    "In other words, hardware and finance people are crazy. No new information there. (dear peer reviewer: this is a joke :) )"
   ]
  },
  {
   "cell_type": "code",
   "execution_count": null,
   "metadata": {
    "collapsed": true
   },
   "outputs": [],
   "source": []
  }
 ],
 "metadata": {
  "anaconda-cloud": {},
  "kernelspec": {
   "display_name": "Python [conda root]",
   "language": "python",
   "name": "conda-root-py"
  },
  "language_info": {
   "codemirror_mode": {
    "name": "ipython",
    "version": 3
   },
   "file_extension": ".py",
   "mimetype": "text/x-python",
   "name": "python",
   "nbconvert_exporter": "python",
   "pygments_lexer": "ipython3",
   "version": "3.5.2"
  }
 },
 "nbformat": 4,
 "nbformat_minor": 1
}
